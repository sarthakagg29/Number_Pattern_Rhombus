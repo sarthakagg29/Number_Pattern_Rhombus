{
 "cells": [
  {
   "cell_type": "code",
   "execution_count": 4,
   "id": "950fd94b",
   "metadata": {},
   "outputs": [
    {
     "name": "stdout",
     "output_type": "stream",
     "text": [
      "10\n",
      "          0  \n",
      "        1   1  \n",
      "      2       2  \n",
      "    3           3  \n",
      "  4               4  \n",
      "5                   5  \n",
      "  4               4  \n",
      "    3           3  \n",
      "      2       2  \n",
      "        1   1  \n"
     ]
    }
   ],
   "source": [
    "#Q-20\n",
    "#      *  \n",
    "#    *   *  \n",
    "#  *       *  \n",
    "#*           *  \n",
    "#  *       *  \n",
    "#    *   *  \n",
    "#      * \n",
    "n = int(input())\n",
    "row = 1\n",
    "nst = 1 \n",
    "nsp = n //2\n",
    "val = 0\n",
    "while row <= n:\n",
    "    \n",
    "    csp = 1\n",
    "    while csp <= nsp:\n",
    "        \n",
    "        print(\" \",end=\" \")       \n",
    "        csp = csp + 1\n",
    "    \n",
    "    cst = 1\n",
    "    while cst <= nst:\n",
    "        cval = val\n",
    "        if cst == nst or cst == 1:\n",
    "            print(cval,end=\" \")\n",
    "        else:\n",
    "            print(\" \",end=\" \")\n",
    "        cst = cst + 1\n",
    "    \n",
    "     \n",
    "    if row <= n//2:\n",
    "        nsp -= 1\n",
    "        nst += 2\n",
    "        val += 1\n",
    "    else:\n",
    "        nsp += 1\n",
    "        nst -= 2\n",
    "        val -= 1\n",
    "    print(\" \")\n",
    "    row = row + 1"
   ]
  }
 ],
 "metadata": {
  "kernelspec": {
   "display_name": "Python 3 (ipykernel)",
   "language": "python",
   "name": "python3"
  },
  "language_info": {
   "codemirror_mode": {
    "name": "ipython",
    "version": 3
   },
   "file_extension": ".py",
   "mimetype": "text/x-python",
   "name": "python",
   "nbconvert_exporter": "python",
   "pygments_lexer": "ipython3",
   "version": "3.10.2"
  }
 },
 "nbformat": 4,
 "nbformat_minor": 5
}
